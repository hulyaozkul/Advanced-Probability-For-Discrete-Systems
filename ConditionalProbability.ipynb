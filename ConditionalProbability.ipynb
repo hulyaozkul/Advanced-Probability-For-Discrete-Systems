{
  "nbformat": 4,
  "nbformat_minor": 0,
  "metadata": {
    "colab": {
      "provenance": [],
      "authorship_tag": "ABX9TyO6ff/1tFawSEHCkmZNTZLv",
      "include_colab_link": true
    },
    "kernelspec": {
      "name": "python3",
      "display_name": "Python 3"
    },
    "language_info": {
      "name": "python"
    }
  },
  "cells": [
    {
      "cell_type": "markdown",
      "metadata": {
        "id": "view-in-github",
        "colab_type": "text"
      },
      "source": [
        "<a href=\"https://colab.research.google.com/github/hulyaozkul/Advanced-Probability-For-Discrete-Systems/blob/main/ConditionalProbability.ipynb\" target=\"_parent\"><img src=\"https://colab.research.google.com/assets/colab-badge.svg\" alt=\"Open In Colab\"/></a>"
      ]
    },
    {
      "cell_type": "markdown",
      "source": [
        "##  Soru 1\n",
        "Bir torbada 3 kırmızı ve 2 mavi bilye vardır. Torbadan rastgele seçilen bir bilyenin kırmızı olduğu bilindiğine göre, ikinci kez çekilen bilyenin yine kırmızı olma olasılığı nedir?"
      ],
      "metadata": {
        "id": "0YEqtbp1zuBA"
      }
    },
    {
      "cell_type": "markdown",
      "source": [
        "### Hesaplama Kodu"
      ],
      "metadata": {
        "id": "sglZ8IYlz5DF"
      }
    },
    {
      "cell_type": "code",
      "execution_count": 2,
      "metadata": {
        "id": "Wa27WmBys1yM",
        "colab": {
          "base_uri": "https://localhost:8080/"
        },
        "outputId": "8886101e-d7fe-4a03-adfd-4f92a3b5a531"
      },
      "outputs": [
        {
          "output_type": "execute_result",
          "data": {
            "text/plain": [
              "0.5"
            ]
          },
          "metadata": {},
          "execution_count": 2
        }
      ],
      "source": [
        "\n",
        "# Olasılıkları tanımlama\n",
        "P_B = 3 / 5  # Önce kırmızı bilyeyi çekme olasılığı\n",
        "P_A_and_B = (3 / 5) * (2 / 4)  # Üst üste iki kırmızı bilye çekme olasılığı\n",
        "\n",
        "# Koşullu olasılığın hesaplanması\n",
        "P_A_given_B = P_A_and_B / P_B\n",
        "P_A_given_B\n"
      ]
    },
    {
      "cell_type": "markdown",
      "source": [
        "##  Soru 2\n",
        "Bir hastalığı tespit etmek için kullanılan bir testin duyarlılığı %95 ve özgüllüğü %90'dır. Bu bölgedeki nüfusta hastalık prevalansı %1 olduğuna göre, testi pozitif çıkan bir kişinin gerçekten hastalığı taşıma olasılığı nedir?"
      ],
      "metadata": {
        "id": "-YsBaI7BzsGM"
      }
    },
    {
      "cell_type": "markdown",
      "source": [
        "### Çözüm\n",
        "Koşullu olasılık ve Bayes Teoremi kullanılarak çözüm yapılabilir:\n",
        "\n",
        "- **Hastalık prevalansı** : Hastalık prevalansı %1.\n",
        "- **Hastalık taşımayanların oranı** : Hastalık taşımayanların oranı %99.\n",
        "- **Testin hastalarda pozitif çıkma olasılığı** : Testin duyarlılığı %95.\n",
        "- **Testin hastalık taşımayanlarda negatif çıkma olasılığı** : Testin özgüllüğü %90, dolayısıyla testin hastalık taşımayanlarda pozitif çıkma olasılığı %10.\n",
        "\n",
        "Bayes Teoremi ile hesaplama yapılır:"
      ],
      "metadata": {
        "id": "msoiqNvxzr-v"
      }
    },
    {
      "cell_type": "markdown",
      "source": [
        "### Hesaplama Kodu"
      ],
      "metadata": {
        "id": "M_2o_fiHth_W"
      }
    },
    {
      "cell_type": "code",
      "source": [
        "\n",
        "# Olasılıkları tanımlama\n",
        "P_H = 0.01  # Hastalığa yakalanma olasılığı\n",
        "P_nH = 0.99  # Hastalığa yakalanmama ihtimali\n",
        "P_T_given_H = 0.95  # Duyarlılık: Hastalığa sahip olunması halinde testin pozitif çıkma olasılığı\n",
        "P_T_given_nH = 0.10  # 1 - Özgünlük: Verilen testin pozitif çıkma olasılığı, hastalığa sahip olmama durumu\n",
        "\n",
        "# Bayes Teoremi\n",
        "P_H_given_T = (P_T_given_H * P_H) / (P_T_given_H * P_H + P_T_given_nH * P_nH)\n",
        "P_H_given_T\n"
      ],
      "metadata": {
        "colab": {
          "base_uri": "https://localhost:8080/"
        },
        "id": "3EmvtjJzzsUz",
        "outputId": "3a12a482-d2d3-46ee-af66-63d4da4a2053"
      },
      "execution_count": 3,
      "outputs": [
        {
          "output_type": "execute_result",
          "data": {
            "text/plain": [
              "0.08755760368663594"
            ]
          },
          "metadata": {},
          "execution_count": 3
        }
      ]
    }
  ]
}