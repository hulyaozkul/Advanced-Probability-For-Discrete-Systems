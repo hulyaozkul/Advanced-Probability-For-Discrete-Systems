{
  "nbformat": 4,
  "nbformat_minor": 0,
  "metadata": {
    "colab": {
      "provenance": [],
      "include_colab_link": true
    },
    "kernelspec": {
      "name": "python3",
      "display_name": "Python 3"
    },
    "language_info": {
      "name": "python"
    }
  },
  "cells": [
    {
      "cell_type": "markdown",
      "metadata": {
        "id": "view-in-github",
        "colab_type": "text"
      },
      "source": [
        "<a href=\"https://colab.research.google.com/github/hulyaozkul/Advanced-Probability-For-Discrete-Systems/blob/main/homework_01.ipynb\" target=\"_parent\"><img src=\"https://colab.research.google.com/assets/colab-badge.svg\" alt=\"Open In Colab\"/></a>"
      ]
    },
    {
      "cell_type": "markdown",
      "metadata": {
        "id": "YBiMHsmZdwD9"
      },
      "source": [
        "KOMBİNASYON\n",
        "\n",
        "\n",
        "\n",
        "SORU : 5 kişilik grupta 2 kişilik kaç farklı grup oluşturulabilir ?\n",
        "\n",
        "C(x,r) = C(5,2)\n",
        "C(5,2)= 5! / (2!(5−2)!)\n",
        "    = 10\n",
        "\n",
        "KOD :\n"
      ]
    },
    {
      "cell_type": "code",
      "metadata": {
        "colab": {
          "base_uri": "https://localhost:8080/"
        },
        "id": "fZqpRDZJeS96",
        "outputId": "fbb21918-3c4a-49da-ce9f-25e25fecbe6c"
      },
      "source": [
        "\n",
        "#kombinasyonun import edilmesi\n",
        "from itertools import combinations\n",
        "\n",
        "#listenin tanımlanması\n",
        "sequence = ['ahmet','mehmet','ali','mustafa','emin']\n",
        "\n",
        "#kombinasyonun uygulanması\n",
        "combinations = combinations(sequence, 2)\n",
        "\n",
        "\n",
        "\n",
        "#Çözümün ekrana yazdırılması\n",
        "print('Çözüm : \\n')\n",
        "for combination in combinations:\n",
        "    print(combination)"
      ],
      "execution_count": 10,
      "outputs": [
        {
          "output_type": "stream",
          "name": "stdout",
          "text": [
            "Çözüm : \n",
            "\n",
            "('ahmet', 'mehmet')\n",
            "('ahmet', 'ali')\n",
            "('ahmet', 'mustafa')\n",
            "('ahmet', 'emin')\n",
            "('mehmet', 'ali')\n",
            "('mehmet', 'mustafa')\n",
            "('mehmet', 'emin')\n",
            "('ali', 'mustafa')\n",
            "('ali', 'emin')\n",
            "('mustafa', 'emin')\n"
          ]
        }
      ]
    },
    {
      "cell_type": "markdown",
      "source": [
        "Permütasyon"
      ],
      "metadata": {
        "id": "haY6GMGKg1Da"
      }
    },
    {
      "cell_type": "code",
      "source": [
        "from itertools import permutations\n",
        "   \n",
        "print (\"Verilen listenin tüm permütasyonları : \")\n",
        "print (list(permutations([1, 'hulya'], 2)))\n",
        "print()\n",
        " \n",
        "print (\"Verilen string için tüm permütasyonlar : \")\n",
        "print (list(permutations('ABc')))\n",
        "print()\n",
        "   \n",
        "print (\"Verilen aralığın tüm permütasyonları : \")\n",
        "print(list(permutations(range(4), 2)))"
      ],
      "metadata": {
        "colab": {
          "base_uri": "https://localhost:8080/"
        },
        "id": "tiuymWh5g7Dd",
        "outputId": "f58b893b-d80e-43ec-db53-41080affd171"
      },
      "execution_count": 11,
      "outputs": [
        {
          "output_type": "stream",
          "name": "stdout",
          "text": [
            "Verilen listenin tüm permütasyonları : \n",
            "[(1, 'hulya'), ('hulya', 1)]\n",
            "\n",
            "Verilen string için tüm permütasyonlar : \n",
            "[('A', 'B', 'c'), ('A', 'c', 'B'), ('B', 'A', 'c'), ('B', 'c', 'A'), ('c', 'A', 'B'), ('c', 'B', 'A')]\n",
            "\n",
            "Verilen aralığın tüm permütasyonları : \n",
            "[(0, 1), (0, 2), (0, 3), (1, 0), (1, 2), (1, 3), (2, 0), (2, 1), (2, 3), (3, 0), (3, 1), (3, 2)]\n"
          ]
        }
      ]
    },
    {
      "cell_type": "markdown",
      "source": [
        "SORU : 6 haneli bir şifre oluşturulacaktır.\n",
        "Şifrenin ilk ve son hanesi karakter 2. hanesi büyük harf 5. hanesi küçük harf 3. ve 4. hanesi rakam olacak şekilde kaç farklı şifre oluşturulabilir.\n",
        "\n",
        "\n",
        "\n",
        "Örnek Şifre : *A12a-\n",
        "\n",
        "ÇÖZÜM : 32 * 26 * 10 * 10 * 26 * 32 =  69222400"
      ],
      "metadata": {
        "id": "g_0K5Q-y6ENk"
      }
    },
    {
      "cell_type": "code",
      "source": [
        "import itertools\n",
        "import string\n",
        "\n",
        "# 10 rakam ve 8 harf\n",
        "digit = list(string.digits)\n",
        "lowcase =  list(string.ascii_lowercase)\n",
        "upcase = list(string.ascii_uppercase)\n",
        "carr = list(string.punctuation)\n",
        "\n",
        "# Listeleri  yazdırma\n",
        "print(\"Rakam listesi:\", list(digit))\n",
        "print(\"Rakam sayısı:\", len(digit))\n",
        "print(\"Küçük harf listesi:\", list(lowcase))\n",
        "print(\"Küçük harf sayısı:\", len(lowcase))\n",
        "print(\"Büyük harf listesi:\", list(upcase))\n",
        "print(\"Büyük harf sayısı:\", len(upcase))\n",
        "print(\"Karakter listesi:\", list(carr))\n",
        "print(\"Karakter sayısı:\", len(carr))\n",
        "\n",
        "# Şifre oluşturma\n",
        "passwords = list(itertools.product(carr, upcase, digit, digit,lowcase,carr))\n",
        "#print(\"Şifre Listesi:\", list(passwords))\n",
        "print(\"Şifre sayısı:\", len(passwords))\n",
        "print(\"Örnek Şifre :\", passwords[2])\n",
        "print(\"Örnek Şifre :\", passwords[20])\n",
        "print(\"Örnek Şifre :\", passwords[200])\n",
        "print(\"Örnek Şifre :\", passwords[2000])\n",
        "print(\"Örnek Şifre :\", passwords[20000])\n"
      ],
      "metadata": {
        "colab": {
          "base_uri": "https://localhost:8080/"
        },
        "id": "LbXTeiwe664g",
        "outputId": "494c0317-3a83-4fd1-8869-a69bade1f4a3"
      },
      "execution_count": 1,
      "outputs": [
        {
          "output_type": "stream",
          "name": "stdout",
          "text": [
            "Rakam listesi: ['0', '1', '2', '3', '4', '5', '6', '7', '8', '9']\n",
            "Rakam sayısı: 10\n",
            "Küçük harf listesi: ['a', 'b', 'c', 'd', 'e', 'f', 'g', 'h', 'i', 'j', 'k', 'l', 'm', 'n', 'o', 'p', 'q', 'r', 's', 't', 'u', 'v', 'w', 'x', 'y', 'z']\n",
            "Küçük harf sayısı: 26\n",
            "Büyük harf listesi: ['A', 'B', 'C', 'D', 'E', 'F', 'G', 'H', 'I', 'J', 'K', 'L', 'M', 'N', 'O', 'P', 'Q', 'R', 'S', 'T', 'U', 'V', 'W', 'X', 'Y', 'Z']\n",
            "Büyük harf sayısı: 26\n",
            "Karakter listesi: ['!', '\"', '#', '$', '%', '&', \"'\", '(', ')', '*', '+', ',', '-', '.', '/', ':', ';', '<', '=', '>', '?', '@', '[', '\\\\', ']', '^', '_', '`', '{', '|', '}', '~']\n",
            "Karakter sayısı: 32\n",
            "Şifre sayısı: 69222400\n",
            "Örnek Şifre : ('!', 'A', '0', '0', 'a', '#')\n",
            "Örnek Şifre : ('!', 'A', '0', '0', 'a', '?')\n",
            "Örnek Şifre : ('!', 'A', '0', '0', 'g', ')')\n",
            "Örnek Şifre : ('!', 'A', '0', '2', 'k', ';')\n",
            "Örnek Şifre : ('!', 'A', '2', '4', 'b', '!')\n"
          ]
        }
      ]
    }
  ]
}