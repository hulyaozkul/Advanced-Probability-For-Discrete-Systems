{
  "nbformat": 4,
  "nbformat_minor": 0,
  "metadata": {
    "colab": {
      "provenance": [],
      "authorship_tag": "ABX9TyMPyHlRHjybuSClVUpvL1/m",
      "include_colab_link": true
    },
    "kernelspec": {
      "name": "python3",
      "display_name": "Python 3"
    },
    "language_info": {
      "name": "python"
    }
  },
  "cells": [
    {
      "cell_type": "markdown",
      "metadata": {
        "id": "view-in-github",
        "colab_type": "text"
      },
      "source": [
        "<a href=\"https://colab.research.google.com/github/hulyaozkul/Advanced-Probability-For-Discrete-Systems/blob/main/olasilik_I_guvercin.ipynb\" target=\"_parent\"><img src=\"https://colab.research.google.com/assets/colab-badge.svg\" alt=\"Open In Colab\"/></a>"
      ]
    },
    {
      "cell_type": "markdown",
      "source": [
        "**Problem Tanımı:**\n",
        "Bir üniversitede, farklı dersler için toplamda 15 sınıf odası bulunmaktadır. Bu derslerin her biri, hafta içi her gün farklı zamanlarda gerçekleşmektedir. Üniversite, yeni bir ders açmayı planlamaktadır ve bu dersin de hafta içi herhangi bir gün ve herhangi bir saatte olabileceğini düşünmektedir. Güvercin yuvası ilkesini kullanarak, yeni açılacak ders için sınıf odası bulunup bulunamayacağını ve eğer bulunamayacaksa nedenini belirleyen bir çözüm geliştirilmeli\n"
      ],
      "metadata": {
        "id": "TAQPODqnrhLe"
      }
    },
    {
      "cell_type": "markdown",
      "source": [
        "**Güvercin Yuvası İlkesinin Uygulanması:**\n",
        "Bu problemde \"güvercinler\", derslerdir ve \"yuvalar\" sınıf odalarıdır. Diyelim ki hafta içi her gün 8 farklı zaman dilimi var ve toplam 15 sınıf odası mevcut. Bu durumda, en fazla\n",
        "15\n",
        "×\n",
        "8\n",
        "×\n",
        "5\n",
        "=\n",
        "600\n",
        "15×8×5=600 farklı ders zamanı oluşturulabilir. Yani, eğer üniversitede 601 veya daha fazla ders varsa, güvercin yuvası ilkesine göre, en az iki dersin aynı zamanda ve aynı sınıfta olması gerektiğinden, yeni ders için boş bir sınıf odası bulunamaz."
      ],
      "metadata": {
        "id": "G7_TaLJMrnS1"
      }
    },
    {
      "cell_type": "markdown",
      "source": [
        "Değişkenlerin Tanımlanması\n"
      ],
      "metadata": {
        "id": "vawik84wrvgM"
      }
    },
    {
      "cell_type": "code",
      "execution_count": 1,
      "metadata": {
        "id": "5hZl2W1bq0dl"
      },
      "outputs": [],
      "source": [
        "sinif_odalari = 15\n",
        "gunluk_zaman_dilimleri = 8  # Diyelim ki bir gün içinde 8 farklı zaman dilimi var.\n",
        "haftanin_gunleri = 5  # Hafta içi\n",
        "mevcut_ders_sayisi = 600  # Mevcut ders sayısı"
      ]
    },
    {
      "cell_type": "markdown",
      "source": [
        "Güvercin Yuvası İlkesi Uygulaması"
      ],
      "metadata": {
        "id": "dxHBjI8srym4"
      }
    },
    {
      "cell_type": "code",
      "source": [
        "# Toplam mümkün ders zamanlarının hesaplanması\n",
        "toplam_mumkun_ders_zamani = sinif_odalari * gunluk_zaman_dilimleri * haftanin_gunleri\n",
        "\n",
        "# Yeni ders için yer olup olmadığının kontrol edilmesi\n",
        "if mevcut_ders_sayisi < toplam_mumkun_ders_zamani:\n",
        "    print(\"Yeni ders için yeterli sınıf odası mevcut.\")\n",
        "else:\n",
        "    print(\"Tüm sınıf odaları dolu, yeni ders için yer yok.\")\n"
      ],
      "metadata": {
        "colab": {
          "base_uri": "https://localhost:8080/"
        },
        "id": "Vflv19pMryEf",
        "outputId": "a42fd74f-cda6-4fd3-8e0e-c789c866caeb"
      },
      "execution_count": 2,
      "outputs": [
        {
          "output_type": "stream",
          "name": "stdout",
          "text": [
            "Tüm sınıf odaları dolu, yeni ders için yer yok.\n"
          ]
        }
      ]
    },
    {
      "cell_type": "markdown",
      "source": [
        "**Problem Tanımı:**\n",
        "15 sınıf odası bulunmaktadır, ancak bu odaların 5'i özel ekipman içermekte ve sadece belirli dersler için kullanılabilmektedir.\n",
        "Sınıf odalarının kapasiteleri farklıdır: 5 küçük (max 20 öğrenci), 5 orta (max 40 öğrenci), ve 5 büyük (max 60 öğrenci).\n",
        "Toplam 620 ders planlanmıştır, her biri haftada bir kez yapılacak. Bu derslerin 100'ü özel ekipman gerektirir ve sadece özel ekipmanlı sınıflarda yapılabilir.\n",
        "Dersler farklı öğrenci sayılarına sahiptir: 200 ders küçük sınıf gerektirir, 200 ders orta, 220 ders ise büyük sınıf gerektirir.\n",
        "Bu koşullar altında, tüm derslerin planlanabilmesi için yeterli sınıf odası olup olmadığını belirleme\n"
      ],
      "metadata": {
        "id": "gSqTdF18sXtR"
      }
    },
    {
      "cell_type": "markdown",
      "source": [
        "**Çözüm:**\n",
        "Bu problemi çözmek için, dersleri ve sınıf odalarını uygun şekilde eşleştirmemiz gerekiyor. Bu, bir tür \"eşleştirme\" problemidir ve güvercin yuvası ilkesini biraz daha farklı bir şekilde uygulamamızı gerektirir."
      ],
      "metadata": {
        "id": "O6Ip7hEvsdw-"
      }
    },
    {
      "cell_type": "code",
      "source": [
        "import numpy as np\n",
        "import pandas"
      ],
      "metadata": {
        "id": "JAIuK0Y5scUp"
      },
      "execution_count": 3,
      "outputs": []
    },
    {
      "cell_type": "markdown",
      "source": [
        "Güvercin Yuvası İlkesi Uygulaması ve Eşleştirme\n",
        "Bu örnekte, derslerin ve sınıf odalarının nasıl eşleştirileceğini hesaplanacak. Bu süreç, sınıf odalarının kapasitesi, özel ekipman gereksinimleri ve derslerin öğrenci sayıları gibi çeşitli faktörleri dikkate alır."
      ],
      "metadata": {
        "id": "Izn5kugusbwc"
      }
    },
    {
      "cell_type": "code",
      "source": [
        "# Sınıf odalarının özellikleri\n",
        "sinif_odalari = [\n",
        "    {'tip': 'kucuk', 'kapasite': 20, 'ozel_equip': False, 'miktar': 5},\n",
        "    {'tip': 'orta', 'kapasite': 40, 'ozel_equip': False, 'miktar': 5},\n",
        "    {'tip': 'buyuk', 'kapasite': 60, 'ozel_equip': False, 'miktar': 3},\n",
        "    {'tip': 'ozel_equip', 'kapasite': 40, 'ozel_equip': True, 'miktar': 2}  # Özel ekipman gerektiren sınıflar\n",
        "]\n",
        "\n",
        "# Derslerin ihtiyaçları\n",
        "dersler = [\n",
        "    {'tip': 'kucuk', 'miktar': 200},\n",
        "     {'tip': 'kucuk', 'miktar': 20},\n",
        "    {'tip': 'orta', 'miktar': 200},\n",
        "    {'tip': 'buyuk', 'miktar': 220},\n",
        "    {'tip': 'ozel_equip', 'miktar': 50}  # Özel ekipman gerektiren dersler\n",
        "]\n"
      ],
      "metadata": {
        "id": "26XvAIfWsyMU"
      },
      "execution_count": 10,
      "outputs": []
    },
    {
      "cell_type": "markdown",
      "source": [
        "Güvercin Yuvası İlkesi Uygulaması ve Eşleştirme\n",
        "Bu bölümde, derslerin sınıf odalarına nasıl dağıtılabileceğini hesaplanır. Özel ekipman gerektiren dersler için sınıf odası kontrolü, kapasiteye göre ders dağılımı ve toplam ders sayısının sınıf seanslarına uygun olup olmadığı incelenir."
      ],
      "metadata": {
        "id": "u0vUKXDjs1Yq"
      }
    },
    {
      "cell_type": "code",
      "source": [
        "def dersleri_sinif_odalarina_eslestir(sinif_odalari, dersler):\n",
        "    # Her ders tipi için kontrol\n",
        "    for ders in dersler:\n",
        "        ders_tipi = ders['tip']\n",
        "        gerekli_sinif = None\n",
        "\n",
        "        # Uygun sınıf odasını bul\n",
        "        for sinif in sinif_odalari:\n",
        "            if ders_tipi == sinif['tip'] or (ders_tipi == 'ozel_equip' and sinif['ozel_equip']):\n",
        "                gerekli_sinif = sinif\n",
        "                break\n",
        "\n",
        "        # Eşleştirme ve kapasite kontrolü\n",
        "        if gerekli_sinif and ders['miktar'] <= gerekli_sinif['miktar'] * gerekli_sinif['kapasite']:\n",
        "            print(f\"{ders['miktar']} adet {ders_tipi} tipi ders için yeterli {gerekli_sinif['tip']} sınıf odası bulunuyor.\")\n",
        "        else:\n",
        "            print(f\"{ders['miktar']} adet {ders_tipi} tipi ders için YETERLİ {gerekli_sinif['tip']} sınıf odası BULUNMUYOR.\")\n",
        "\n",
        "dersleri_sinif_odalarina_eslestir(sinif_odalari, dersler)\n"
      ],
      "metadata": {
        "colab": {
          "base_uri": "https://localhost:8080/"
        },
        "id": "_f5Ih2Wcs1FW",
        "outputId": "58a1247d-9285-479a-9963-23a442f5453a"
      },
      "execution_count": 11,
      "outputs": [
        {
          "output_type": "stream",
          "name": "stdout",
          "text": [
            "200 adet kucuk tipi ders için YETERLİ kucuk sınıf odası BULUNMUYOR.\n",
            "20 adet kucuk tipi ders için yeterli kucuk sınıf odası bulunuyor.\n",
            "200 adet orta tipi ders için yeterli orta sınıf odası bulunuyor.\n",
            "220 adet buyuk tipi ders için YETERLİ buyuk sınıf odası BULUNMUYOR.\n",
            "50 adet ozel_equip tipi ders için yeterli ozel_equip sınıf odası bulunuyor.\n"
          ]
        }
      ]
    }
  ]
}