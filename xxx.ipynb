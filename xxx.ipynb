{
  "nbformat": 4,
  "nbformat_minor": 0,
  "metadata": {
    "colab": {
      "provenance": [],
      "authorship_tag": "ABX9TyNmUE6h/Wyx3/DPlxWp204h",
      "include_colab_link": true
    },
    "kernelspec": {
      "name": "python3",
      "display_name": "Python 3"
    },
    "language_info": {
      "name": "python"
    }
  },
  "cells": [
    {
      "cell_type": "markdown",
      "metadata": {
        "id": "view-in-github",
        "colab_type": "text"
      },
      "source": [
        "<a href=\"https://colab.research.google.com/github/hulyaozkul/Advanced-Probability-For-Discrete-Systems/blob/main/xxx.ipynb\" target=\"_parent\"><img src=\"https://colab.research.google.com/assets/colab-badge.svg\" alt=\"Open In Colab\"/></a>"
      ]
    },
    {
      "cell_type": "markdown",
      "source": [
        "#Güvercin Yuvası\n",
        "\n",
        "**Bu prensibin en basit uygulaması, kutulardan en az birindeki nesne sayısının iki ya da daha fazla olduğu durumdur.**\n",
        "\n",
        "**m>n olmak üzere,**\n",
        "**m nesnenin n kutuya dağıtıldığı durumda, kutulardan en az biri iki ya da daha fazla nesne içermek zorundadır.**"
      ],
      "metadata": {
        "id": "B9Q43OyWU0UR"
      }
    },
    {
      "cell_type": "markdown",
      "source": [
        "# Örnek\n",
        "\n",
        "Bir sepetteki 35 mavi, 21 mor, 17 sarı, 7 yeşil ve 3 kırmızı top arasından birer birer top alınıyor.\n",
        "\n",
        "Aynı renkte 20 top alındığından emin olmak için sepetten en az kaç top alınmalıdır?"
      ],
      "metadata": {
        "id": "aqvBbx-8TTlu"
      }
    },
    {
      "cell_type": "markdown",
      "source": [
        "#Çözüm\n",
        "\n",
        "Aynı renkte 20 top alındığından emin olmak için, öncesinde 20 ve üzerinde sayıda top içeren renklerden (mavi ve mor) 19'ar top, 20'den az sayıda top içeren renklerin ise tümünün seçildiği en kötü senaryonun gerçekleşeceği varsayılır.\n",
        "\n",
        "Buna göre en kötü senaryoda aynı renkte 20 top içermeyecek şekilde önce 19 mavi, 19 mor, 17 sarı, 7 yeşil ve 3 kırmızı top sepetten alınır.\n",
        "\n",
        "Bu noktada sepette sadece mavi ve mor top kalacağı için, ilk alınacak top birlikte aynı renkte 20 top alındığından emin olunabilir.\n",
        "\n",
        "Buna göre, alınması gereken en az top sayısı  19+19+17+7+3+1 = 66\n",
        " olur."
      ],
      "metadata": {
        "id": "ldzFjuLfUKoa"
      }
    },
    {
      "cell_type": "code",
      "source": [
        "def en_az_top_al(mavi, mor, sarı, yeşil, kırmızı):\n",
        "    # En fazla top içeren renklerden 19'ar top al\n",
        "    mavi_top = min(mavi, 19)\n",
        "    mor_top = min(mor, 19)\n",
        "\n",
        "    # Diğer renklerden tüm topları al\n",
        "    sarı_top = min(sarı, 17)\n",
        "    yesil_top = min(yeşil, 7)\n",
        "    kirmizi_top = min(kırmızı, 3)\n",
        "\n",
        "    # Toplam top sayısı\n",
        "    toplam_top = mavi_top + mor_top + sarı_top + yesil_top + kirmizi_top + 1\n",
        "\n",
        "    return toplam_top\n",
        "\n",
        "# Top sayıları\n",
        "mavi = 35\n",
        "mor = 21\n",
        "sarı = 17\n",
        "yeşil = 7\n",
        "kırmızı = 3\n",
        "\n",
        "# En az top sayısını hesapla\n",
        "en_az_top = en_az_top_al(mavi, mor, sarı, yeşil, kırmızı)\n",
        "\n",
        "print(f\"Sepetten en az {en_az_top} top alınmalıdır.\")\n"
      ],
      "metadata": {
        "colab": {
          "base_uri": "https://localhost:8080/"
        },
        "id": "f2j-Q3OhSkqm",
        "outputId": "e9ad234c-66d6-4501-aacd-b609ae0f04f3"
      },
      "execution_count": null,
      "outputs": [
        {
          "output_type": "stream",
          "name": "stdout",
          "text": [
            "Sepetten en az 66 top alınmalıdır.\n"
          ]
        }
      ]
    },
    {
      "cell_type": "markdown",
      "source": [],
      "metadata": {
        "id": "ycdCuMFRVsP1"
      }
    }
  ]
}