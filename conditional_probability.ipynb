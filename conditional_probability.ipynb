{
  "cells": [
    {
      "cell_type": "markdown",
      "metadata": {
        "id": "view-in-github",
        "colab_type": "text"
      },
      "source": [
        "<a href=\"https://colab.research.google.com/github/hulyaozkul/Advanced-Probability-For-Discrete-Systems/blob/main/conditional_probability.ipynb\" target=\"_parent\"><img src=\"https://colab.research.google.com/assets/colab-badge.svg\" alt=\"Open In Colab\"/></a>"
      ]
    },
    {
      "cell_type": "markdown",
      "id": "0ad73b7d",
      "metadata": {
        "id": "0ad73b7d"
      },
      "source": [
        "##  Soru 1\n",
        "Bir torbada 3 kırmızı ve 2 mavi bilye vardır. Torbadan rastgele seçilen bir bilyenin kırmızı olduğu bilindiğine göre, ikinci kez çekilen bilyenin yine kırmızı olma olasılığı nedir?"
      ]
    },
    {
      "cell_type": "markdown",
      "id": "ef346195",
      "metadata": {
        "id": "ef346195"
      },
      "source": [
        "### Çözüm\n",
        "Koşullu olasılık formülü kullanılır:\n",
        "\\[ P(A|B) =\n",
        "rac{P(A \\cap B)}{P(B)} \\]\n",
        "\n",
        "- İlk bilyenin kırmızı olması \\( B \\) durumu, ve ikinci bilyenin de kırmızı olması \\( A \\) durumu.\n",
        "- İlk bilyenin kırmızı olma olasılığı \\( P(B) =\n",
        "rac{3}{5} \\).\n",
        "- İlk iki bilyenin kırmızı olma olasılığı \\( P(A \\cap B) =\n",
        "rac{3}{5} \times\n",
        "rac{2}{4} =\n",
        "rac{3}{10} \\).\n",
        "\n",
        "Koşullu olasılık hesaplanır:\n",
        "\\[ P(A|B) =\n",
        "rac{\n",
        "rac{3}{10}}{\n",
        "rac{3}{5}} =\n",
        "rac{1}{2} \\]"
      ]
    },
    {
      "cell_type": "markdown",
      "id": "dffcd09c",
      "metadata": {
        "id": "dffcd09c"
      },
      "source": [
        "### Hesaplama Kodu"
      ]
    },
    {
      "cell_type": "code",
      "execution_count": null,
      "id": "886ce8c2",
      "metadata": {
        "colab": {
          "base_uri": "https://localhost:8080/"
        },
        "id": "886ce8c2",
        "outputId": "9ee2eb10-db55-4d9c-9273-ca5afc1b66ad"
      },
      "outputs": [
        {
          "output_type": "execute_result",
          "data": {
            "text/plain": [
              "0.5"
            ]
          },
          "metadata": {},
          "execution_count": 2
        }
      ],
      "source": [
        "\n",
        "# Olasılıkları tanımlama\n",
        "P_B = 3 / 5  # Önce kırmızı bilyeyi çekme olasılığı\n",
        "P_A_and_B = (3 / 5) * (2 / 4)  # Üst üste iki kırmızı bilye çekme olasılığı\n",
        "\n",
        "# Koşullu olasılığın hesaplanması\n",
        "P_A_given_B = P_A_and_B / P_B\n",
        "P_A_given_B\n"
      ]
    },
    {
      "cell_type": "markdown",
      "metadata": {
        "id": "23e4bc77"
      },
      "source": [
        "##  Soru 2\n",
        "Bir hastalığı tespit etmek için kullanılan bir testin duyarlılığı %95 ve özgüllüğü %90'dır. Bu bölgedeki nüfusta hastalık prevalansı %1 olduğuna göre, testi pozitif çıkan bir kişinin gerçekten hastalığı taşıma olasılığı nedir?"
      ],
      "id": "23e4bc77"
    },
    {
      "cell_type": "markdown",
      "metadata": {
        "id": "b8ccba0d"
      },
      "source": [
        "### Çözüm\n",
        "Koşullu olasılık ve Bayes Teoremi kullanılarak çözüm yapılabilir:\n",
        "\n",
        "- **Hastalık prevalansı** (P(H)): Hastalık prevalansı %1.\n",
        "- **Hastalık taşımayanların oranı** (P(¬H)): Hastalık taşımayanların oranı %99.\n",
        "- **Testin hastalarda pozitif çıkma olasılığı** (P(T|H)): Testin duyarlılığı %95.\n",
        "- **Testin hastalık taşımayanlarda negatif çıkma olasılığı** (P(T|¬H)): Testin özgüllüğü %90, dolayısıyla testin hastalık taşımayanlarda pozitif çıkma olasılığı %10.\n",
        "\n",
        "Bayes Teoremi ile hesaplama yapılır:\n",
        "\\[ P(H|T) =\n",
        "rac{P(T|H) \times P(H)}{P(T|H) \times P(H) + P(T|¬H) \times P(¬H)} \\]"
      ],
      "id": "b8ccba0d"
    },
    {
      "cell_type": "code",
      "execution_count": null,
      "metadata": {
        "colab": {
          "base_uri": "https://localhost:8080/"
        },
        "id": "fc6b5464",
        "outputId": "d0bc9a13-053c-49f0-df9d-c4aada98c8cb"
      },
      "outputs": [
        {
          "output_type": "execute_result",
          "data": {
            "text/plain": [
              "0.08755760368663594"
            ]
          },
          "metadata": {},
          "execution_count": 3
        }
      ],
      "source": [
        "\n",
        "# Olasılıkları tanımlama\n",
        "P_H = 0.01  # Hastalığa yakalanma olasılığı\n",
        "P_nH = 0.99  # Hastalığa yakalanmama ihtimali\n",
        "P_T_given_H = 0.95  # Duyarlılık: Hastalığa sahip olunması halinde testin pozitif çıkma olasılığı\n",
        "P_T_given_nH = 0.10  # 1 - Özgünlük: Verilen testin pozitif çıkma olasılığı, hastalığa sahip olmama durumu\n",
        "\n",
        "# Bayes Teoremi\n",
        "P_H_given_T = (P_T_given_H * P_H) / (P_T_given_H * P_H + P_T_given_nH * P_nH)\n",
        "P_H_given_T\n"
      ],
      "id": "fc6b5464"
    }
  ],
  "metadata": {
    "colab": {
      "provenance": [],
      "include_colab_link": true
    },
    "language_info": {
      "name": "python"
    },
    "kernelspec": {
      "name": "python3",
      "display_name": "Python 3"
    }
  },
  "nbformat": 4,
  "nbformat_minor": 5
}