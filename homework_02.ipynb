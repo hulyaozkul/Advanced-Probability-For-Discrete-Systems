{
  "nbformat": 4,
  "nbformat_minor": 0,
  "metadata": {
    "colab": {
      "provenance": [],
      "authorship_tag": "ABX9TyMvdm28qWbGvO9zybzPF779",
      "include_colab_link": true
    },
    "kernelspec": {
      "name": "python3",
      "display_name": "Python 3"
    },
    "language_info": {
      "name": "python"
    }
  },
  "cells": [
    {
      "cell_type": "markdown",
      "metadata": {
        "id": "view-in-github",
        "colab_type": "text"
      },
      "source": [
        "<a href=\"https://colab.research.google.com/github/hulyaozkul/Advanced-Probability-For-Discrete-Systems/blob/main/homework_02.ipynb\" target=\"_parent\"><img src=\"https://colab.research.google.com/assets/colab-badge.svg\" alt=\"Open In Colab\"/></a>"
      ]
    },
    {
      "cell_type": "markdown",
      "source": [
        "**SORU :**"
      ],
      "metadata": {
        "id": "aMNYmgbfkBsq"
      }
    },
    {
      "cell_type": "markdown",
      "source": [
        "Tabağındaki 5 mavi top ve 3 kırmızı top arasından rastgele 2 top çekiliyor. Bu durumda, çekilen topların her ikisi de kırmızı olma olasılığı nedir?  \n"
      ],
      "metadata": {
        "id": "GrYKRHdLmqhc"
      }
    },
    {
      "cell_type": "markdown",
      "source": [
        "**ÇÖZÜM**"
      ],
      "metadata": {
        "id": "LssFnMLUklml"
      }
    },
    {
      "cell_type": "markdown",
      "source": [
        "P(iki kırmızı top çekmek) = (kırmızı topların sayısı / toplam topların sayısı) * ((kırmızı topların sayısı - 1) / (toplam topların sayısı - 1))\n",
        "\n",
        "Burada, kırmızı topların sayısı 3 ve toplam topların sayısı 8 olduğu için, formülü kullanarak hesaplayabiliriz:\n",
        "\n",
        "P(iki kırmızı top çekmek) = (3/8) * (2/7) = 6/56 = 3/28\n",
        "\n",
        "Yani, çekilen topların her ikisi de kırmızı olma olasılığı 3/28'dir."
      ],
      "metadata": {
        "id": "nSD-uZm2sCnW"
      }
    },
    {
      "cell_type": "code",
      "execution_count": 1,
      "metadata": {
        "colab": {
          "base_uri": "https://localhost:8080/"
        },
        "id": "PreK5GpRhmel",
        "outputId": "6ab8f7f7-817b-4607-85c9-8fdda0989abb"
      },
      "outputs": [
        {
          "output_type": "stream",
          "name": "stdout",
          "text": [
            "Çekilen topların her ikisi de kırmızı değildir.\n"
          ]
        }
      ],
      "source": [
        "import random\n",
        "\n",
        "# Topların renklerini bir listede saklayalım\n",
        "toplar = [\"mavi\", \"mavi\", \"mavi\", \"mavi\", \"mavi\", \"kırmızı\", \"kırmızı\", \"kırmızı\"]\n",
        "\n",
        "# 2 top çekmek için rastgele 2 sayı seçelim ve bu sayılara karşılık gelen topları seçelim\n",
        "# Not: random.sample() fonksiyonu, belirtilen listeden rastgele ve tekrar etmeyen n adet eleman seçer\n",
        "secilen_toplar = random.sample(toplar, 2)\n",
        "\n",
        "# Seçilen topların her ikisinin de kırmızı olma durumunu kontrol edelim\n",
        "if secilen_toplar == [\"kırmızı\", \"kırmızı\"]:\n",
        "    print(\"Çekilen topların her ikisi de kırmızıdır.\")\n",
        "else:\n",
        "    print(\"Çekilen topların her ikisi de kırmızı değildir.\")\n"
      ]
    },
    {
      "cell_type": "markdown",
      "source": [
        "Bu kodları çalıştırdığımızda, çıktı olarak \"Çekilen topların her ikisi de kırmızı değildir.\" yazısını görmemiz muhtemeldir. Bu da bize, çekilen topların her ikisinin de kırmızı olma olasılığının oldukça düşük olduğunu gösterir.\n",
        "\n",
        "Bu olasılığı hesaplamak için de matematiksel bir formül kullanabiliriz"
      ],
      "metadata": {
        "id": "o-Zcho8ZL_jn"
      }
    },
    {
      "cell_type": "code",
      "source": [
        "# İlk olarak, kırmızı topların sayısını ve toplam topların sayısını tanımlayalım\n",
        "kırmızı_toplar = 3\n",
        "toplam_toplar = 8\n",
        "\n",
        "# Olasılık hesaplama formülünü uygulayalım\n",
        "olasılık = (kırmızı_toplar / toplam_toplar) * ((kırmızı_toplar - 1) / (toplam_toplar - 1))\n",
        "\n",
        "# Sonucu yazdıralım\n",
        "print(\"Çekilen topların her ikisi de kırmızı olma olasılığı:\", olasılık)\n"
      ],
      "metadata": {
        "colab": {
          "base_uri": "https://localhost:8080/"
        },
        "id": "jLvwkxRtL_Fz",
        "outputId": "068b7223-5481-46ca-8886-4a52ed72797e"
      },
      "execution_count": 2,
      "outputs": [
        {
          "output_type": "stream",
          "name": "stdout",
          "text": [
            "Çekilen topların her ikisi de kırmızı olma olasılığı: 0.10714285714285714\n"
          ]
        }
      ]
    }
  ]
}